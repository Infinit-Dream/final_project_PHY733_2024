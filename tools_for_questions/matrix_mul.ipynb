{
 "cells": [
  {
   "cell_type": "markdown",
   "metadata": {},
   "source": [
    "# Tool for matrix multiplication\n",
    "\n",
    "Was used to help during matrix multiplication and integration of question #4 and #6."
   ]
  },
  {
   "cell_type": "markdown",
   "metadata": {},
   "source": [
    "Initiate packages and symbols:"
   ]
  },
  {
   "cell_type": "code",
   "execution_count": 5,
   "metadata": {},
   "outputs": [],
   "source": [
    "import numpy as np\n",
    "import sympy as sy\n",
    "from sympy.physics.quantum import Dagger\n",
    "sy.init_printing()\n",
    "\n",
    "p, theta, phi  = sy.symbols('rho theta phi', real = True)"
   ]
  },
  {
   "cell_type": "markdown",
   "metadata": {},
   "source": [
    "Define matrices to multiply:"
   ]
  },
  {
   "cell_type": "code",
   "execution_count": 6,
   "metadata": {},
   "outputs": [
    {
     "data": {
      "text/latex": [
       "$\\displaystyle \\left[\\begin{matrix}\\cos{\\left(\\phi \\right)} & - e^{i \\rho} \\sin{\\left(\\phi \\right)}\\\\- e^{- i \\rho} \\sin{\\left(\\phi \\right)} & - \\cos{\\left(\\phi \\right)}\\end{matrix}\\right]$"
      ],
      "text/plain": [
       "⎡                 ⅈ⋅ρ       ⎤\n",
       "⎢   cos(φ)      -ℯ   ⋅sin(φ)⎥\n",
       "⎢                           ⎥\n",
       "⎢  -ⅈ⋅ρ                     ⎥\n",
       "⎣-ℯ    ⋅sin(φ)    -cos(φ)   ⎦"
      ]
     },
     "execution_count": 6,
     "metadata": {},
     "output_type": "execute_result"
    }
   ],
   "source": [
    "u = sy.Matrix([\n",
    "    [sy.exp(-sy.I * (p + theta) / 2) * sy.cos(phi / 2), \n",
    "     -sy.exp(sy.I * (p - theta) / 2) * sy.sin(phi / 2)],\n",
    "    [sy.exp(-sy.I * (p - theta) / 2) * sy.sin(phi / 2), \n",
    "     sy.exp(sy.I * (p + theta) / 2) * sy.cos(phi / 2)]\n",
    "])\n",
    "\n",
    "sigma_z = sy.Matrix([\n",
    "    [1, 0],\n",
    "    [0, -1]\n",
    "])\n",
    "\n",
    "void = sy.Matrix([\n",
    "    [1], \n",
    "    [0]\n",
    "])\n",
    "\n",
    "sy.simplify(Dagger(u) * sigma_z * u)"
   ]
  },
  {
   "cell_type": "markdown",
   "metadata": {},
   "source": [
    "Do computation here:"
   ]
  },
  {
   "cell_type": "code",
   "execution_count": 7,
   "metadata": {},
   "outputs": [
    {
     "data": {
      "text/latex": [
       "$\\displaystyle \\frac{\\sin{\\left(\\phi \\right)} \\cos^{2}{\\left(\\phi \\right)}}{2}$"
      ],
      "text/plain": [
       "          2   \n",
       "sin(φ)⋅cos (φ)\n",
       "──────────────\n",
       "      2       "
      ]
     },
     "execution_count": 7,
     "metadata": {},
     "output_type": "execute_result"
    }
   ],
   "source": [
    "mean_z = (Dagger(void) * Dagger(u) * sigma_z * u * void)[0]\n",
    "\n",
    "sy.simplify(mean_z**2 * sy.sin(phi) / 2)"
   ]
  },
  {
   "cell_type": "code",
   "execution_count": 8,
   "metadata": {},
   "outputs": [
    {
     "data": {
      "text/latex": [
       "$\\displaystyle \\frac{1}{3}$"
      ],
      "text/plain": [
       "1/3"
      ]
     },
     "execution_count": 8,
     "metadata": {},
     "output_type": "execute_result"
    }
   ],
   "source": [
    "integrated_mean_z = sy.integrate(mean_z**2 * sy.sin(phi) / 2, (phi, 0, sy.pi)) * sy.integrate(1, (theta, 0, 2 * sy.pi)) / (2 * sy.pi) * sy.integrate(1, (p, 0, 2 * sy.pi)) / (2 * sy.pi)\n",
    "\n",
    "sy.simplify(integrated_mean_z)"
   ]
  }
 ],
 "metadata": {
  "kernelspec": {
   "display_name": "Python 3",
   "language": "python",
   "name": "python3"
  },
  "language_info": {
   "codemirror_mode": {
    "name": "ipython",
    "version": 3
   },
   "file_extension": ".py",
   "mimetype": "text/x-python",
   "name": "python",
   "nbconvert_exporter": "python",
   "pygments_lexer": "ipython3",
   "version": "3.11.7"
  }
 },
 "nbformat": 4,
 "nbformat_minor": 2
}
